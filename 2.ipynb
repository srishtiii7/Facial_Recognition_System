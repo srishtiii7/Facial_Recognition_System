{
 "cells": [
  {
   "cell_type": "code",
   "execution_count": 1,
   "id": "d31c2606",
   "metadata": {},
   "outputs": [],
   "source": [
    "import cv2\n",
    "from cv2 import face\n",
    "import numpy as np\n",
    "from PIL import Image\n",
    "import os\n",
    "\n"
   ]
  },
  {
   "cell_type": "code",
   "execution_count": 2,
   "id": "d471c244",
   "metadata": {},
   "outputs": [],
   "source": [
    "# Path for face image database\n",
    "path = 'dataset'\n",
    "\n",
    "recognizer = cv2.face.LBPHFaceRecognizer_create()\n",
    "detector = cv2.CascadeClassifier(\"haarcascade_frontalface_default.xml\");\n",
    "\n",
    "# function to get the images and label data\n",
    "\n",
    "def getImagesAndLabels(path):\n",
    "\n",
    "    imagePaths = [os.path.join(path,f) for f in os.listdir(path) if not f.startswith('.')]     \n",
    "    faceSamples=[]\n",
    "    ids = []\n",
    "\n",
    "    for imagePath in imagePaths:\n",
    "\n",
    "        PIL_img = Image.open(imagePath).convert('L') # convert it to grayscale\n",
    "        img_numpy = np.array(PIL_img,'uint8')\n",
    "\n",
    "        id = int(os.path.split(imagePath)[-1].split(\".\")[1])\n",
    "        faces = detector.detectMultiScale(img_numpy)\n",
    "\n",
    "        for (x,y,w,h) in faces:\n",
    "            faceSamples.append(img_numpy[y:y+h,x:x+w])\n",
    "            ids.append(id)\n",
    "\n",
    "    return faceSamples,ids\n"
   ]
  },
  {
   "cell_type": "code",
   "execution_count": 3,
   "id": "aff86039",
   "metadata": {},
   "outputs": [
    {
     "name": "stdout",
     "output_type": "stream",
     "text": [
      "\n",
      " [INFO] Training faces. It will take a few seconds. Wait ...\n"
     ]
    }
   ],
   "source": [
    "print (\"\\n [INFO] Training faces. It will take a few seconds. Wait ...\")\n",
    "faces,ids = getImagesAndLabels(path)\n",
    "recognizer.train(faces, np.array(ids))\n",
    "\n"
   ]
  },
  {
   "cell_type": "code",
   "execution_count": 4,
   "id": "634e9833",
   "metadata": {},
   "outputs": [],
   "source": [
    "# Save the model into trainer/trainer.yml\n",
    "recognizer.write('trainer/trainer.yml') # recognizer.save() worked on Mac, but not on Pi\n",
    "\n"
   ]
  },
  {
   "cell_type": "code",
   "execution_count": 5,
   "id": "b599a37c",
   "metadata": {},
   "outputs": [
    {
     "name": "stdout",
     "output_type": "stream",
     "text": [
      "\n",
      " [INFO] 6 faces trained. Exiting Program\n"
     ]
    }
   ],
   "source": [
    "# Print the numer of faces trained and end program\n",
    "print(\"\\n [INFO] {0} faces trained. Exiting Program\".format(len(np.unique(ids))))"
   ]
  }
 ],
 "metadata": {
  "kernelspec": {
   "display_name": "Python 3 (ipykernel)",
   "language": "python",
   "name": "python3"
  },
  "language_info": {
   "codemirror_mode": {
    "name": "ipython",
    "version": 3
   },
   "file_extension": ".py",
   "mimetype": "text/x-python",
   "name": "python",
   "nbconvert_exporter": "python",
   "pygments_lexer": "ipython3",
   "version": "3.9.13"
  }
 },
 "nbformat": 4,
 "nbformat_minor": 5
}
